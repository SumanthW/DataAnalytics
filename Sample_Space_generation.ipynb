{
  "nbformat": 4,
  "nbformat_minor": 0,
  "metadata": {
    "colab": {
      "provenance": []
    },
    "kernelspec": {
      "name": "python3",
      "display_name": "Python 3"
    },
    "language_info": {
      "name": "python"
    }
  },
  "cells": [
    {
      "cell_type": "markdown",
      "source": [
        "Assignment 2:\n",
        "\n",
        "\n",
        "\n",
        "> Name: SUMANTH WANNUR\n",
        "\n",
        "\n",
        "\n",
        "\n",
        "Note: \n",
        "\n",
        "\n",
        "1.   Question 1 requires Massachusetts median household income dataset, hence use the csv attached with the ipynb file.\n",
        "The csv file attached is already cleaned($ sign, commas etc.,) and readily consumable for the computations.\n",
        "2.   The functions for question 3,4,5 will use another recursive function for execution. Hence all the functions except main needs to be present for unit testing.\n",
        "\n",
        "\n",
        "\n",
        "\n",
        "\n",
        "\n",
        "\n",
        "\n"
      ],
      "metadata": {
        "id": "YesFxvFRSbhm"
      }
    },
    {
      "cell_type": "markdown",
      "source": [
        "# Problem 1"
      ],
      "metadata": {
        "id": "BQCarLxKyG7e"
      }
    },
    {
      "cell_type": "code",
      "execution_count": null,
      "metadata": {
        "id": "_vqScC0Jx_so",
        "colab": {
          "base_uri": "https://localhost:8080/",
          "height": 108
        },
        "outputId": "c3b39025-d431-4e85-8327-19362d806d09"
      },
      "outputs": [
        {
          "output_type": "stream",
          "name": "stdout",
          "text": [
            "Upload csv file for Massachusetts median household income.\n"
          ]
        },
        {
          "output_type": "display_data",
          "data": {
            "text/plain": [
              "<IPython.core.display.HTML object>"
            ],
            "text/html": [
              "\n",
              "     <input type=\"file\" id=\"files-b8b327cf-4d7a-41b9-a6df-aa7af7609230\" name=\"files[]\" multiple disabled\n",
              "        style=\"border:none\" />\n",
              "     <output id=\"result-b8b327cf-4d7a-41b9-a6df-aa7af7609230\">\n",
              "      Upload widget is only available when the cell has been executed in the\n",
              "      current browser session. Please rerun this cell to enable.\n",
              "      </output>\n",
              "      <script>// Copyright 2017 Google LLC\n",
              "//\n",
              "// Licensed under the Apache License, Version 2.0 (the \"License\");\n",
              "// you may not use this file except in compliance with the License.\n",
              "// You may obtain a copy of the License at\n",
              "//\n",
              "//      http://www.apache.org/licenses/LICENSE-2.0\n",
              "//\n",
              "// Unless required by applicable law or agreed to in writing, software\n",
              "// distributed under the License is distributed on an \"AS IS\" BASIS,\n",
              "// WITHOUT WARRANTIES OR CONDITIONS OF ANY KIND, either express or implied.\n",
              "// See the License for the specific language governing permissions and\n",
              "// limitations under the License.\n",
              "\n",
              "/**\n",
              " * @fileoverview Helpers for google.colab Python module.\n",
              " */\n",
              "(function(scope) {\n",
              "function span(text, styleAttributes = {}) {\n",
              "  const element = document.createElement('span');\n",
              "  element.textContent = text;\n",
              "  for (const key of Object.keys(styleAttributes)) {\n",
              "    element.style[key] = styleAttributes[key];\n",
              "  }\n",
              "  return element;\n",
              "}\n",
              "\n",
              "// Max number of bytes which will be uploaded at a time.\n",
              "const MAX_PAYLOAD_SIZE = 100 * 1024;\n",
              "\n",
              "function _uploadFiles(inputId, outputId) {\n",
              "  const steps = uploadFilesStep(inputId, outputId);\n",
              "  const outputElement = document.getElementById(outputId);\n",
              "  // Cache steps on the outputElement to make it available for the next call\n",
              "  // to uploadFilesContinue from Python.\n",
              "  outputElement.steps = steps;\n",
              "\n",
              "  return _uploadFilesContinue(outputId);\n",
              "}\n",
              "\n",
              "// This is roughly an async generator (not supported in the browser yet),\n",
              "// where there are multiple asynchronous steps and the Python side is going\n",
              "// to poll for completion of each step.\n",
              "// This uses a Promise to block the python side on completion of each step,\n",
              "// then passes the result of the previous step as the input to the next step.\n",
              "function _uploadFilesContinue(outputId) {\n",
              "  const outputElement = document.getElementById(outputId);\n",
              "  const steps = outputElement.steps;\n",
              "\n",
              "  const next = steps.next(outputElement.lastPromiseValue);\n",
              "  return Promise.resolve(next.value.promise).then((value) => {\n",
              "    // Cache the last promise value to make it available to the next\n",
              "    // step of the generator.\n",
              "    outputElement.lastPromiseValue = value;\n",
              "    return next.value.response;\n",
              "  });\n",
              "}\n",
              "\n",
              "/**\n",
              " * Generator function which is called between each async step of the upload\n",
              " * process.\n",
              " * @param {string} inputId Element ID of the input file picker element.\n",
              " * @param {string} outputId Element ID of the output display.\n",
              " * @return {!Iterable<!Object>} Iterable of next steps.\n",
              " */\n",
              "function* uploadFilesStep(inputId, outputId) {\n",
              "  const inputElement = document.getElementById(inputId);\n",
              "  inputElement.disabled = false;\n",
              "\n",
              "  const outputElement = document.getElementById(outputId);\n",
              "  outputElement.innerHTML = '';\n",
              "\n",
              "  const pickedPromise = new Promise((resolve) => {\n",
              "    inputElement.addEventListener('change', (e) => {\n",
              "      resolve(e.target.files);\n",
              "    });\n",
              "  });\n",
              "\n",
              "  const cancel = document.createElement('button');\n",
              "  inputElement.parentElement.appendChild(cancel);\n",
              "  cancel.textContent = 'Cancel upload';\n",
              "  const cancelPromise = new Promise((resolve) => {\n",
              "    cancel.onclick = () => {\n",
              "      resolve(null);\n",
              "    };\n",
              "  });\n",
              "\n",
              "  // Wait for the user to pick the files.\n",
              "  const files = yield {\n",
              "    promise: Promise.race([pickedPromise, cancelPromise]),\n",
              "    response: {\n",
              "      action: 'starting',\n",
              "    }\n",
              "  };\n",
              "\n",
              "  cancel.remove();\n",
              "\n",
              "  // Disable the input element since further picks are not allowed.\n",
              "  inputElement.disabled = true;\n",
              "\n",
              "  if (!files) {\n",
              "    return {\n",
              "      response: {\n",
              "        action: 'complete',\n",
              "      }\n",
              "    };\n",
              "  }\n",
              "\n",
              "  for (const file of files) {\n",
              "    const li = document.createElement('li');\n",
              "    li.append(span(file.name, {fontWeight: 'bold'}));\n",
              "    li.append(span(\n",
              "        `(${file.type || 'n/a'}) - ${file.size} bytes, ` +\n",
              "        `last modified: ${\n",
              "            file.lastModifiedDate ? file.lastModifiedDate.toLocaleDateString() :\n",
              "                                    'n/a'} - `));\n",
              "    const percent = span('0% done');\n",
              "    li.appendChild(percent);\n",
              "\n",
              "    outputElement.appendChild(li);\n",
              "\n",
              "    const fileDataPromise = new Promise((resolve) => {\n",
              "      const reader = new FileReader();\n",
              "      reader.onload = (e) => {\n",
              "        resolve(e.target.result);\n",
              "      };\n",
              "      reader.readAsArrayBuffer(file);\n",
              "    });\n",
              "    // Wait for the data to be ready.\n",
              "    let fileData = yield {\n",
              "      promise: fileDataPromise,\n",
              "      response: {\n",
              "        action: 'continue',\n",
              "      }\n",
              "    };\n",
              "\n",
              "    // Use a chunked sending to avoid message size limits. See b/62115660.\n",
              "    let position = 0;\n",
              "    do {\n",
              "      const length = Math.min(fileData.byteLength - position, MAX_PAYLOAD_SIZE);\n",
              "      const chunk = new Uint8Array(fileData, position, length);\n",
              "      position += length;\n",
              "\n",
              "      const base64 = btoa(String.fromCharCode.apply(null, chunk));\n",
              "      yield {\n",
              "        response: {\n",
              "          action: 'append',\n",
              "          file: file.name,\n",
              "          data: base64,\n",
              "        },\n",
              "      };\n",
              "\n",
              "      let percentDone = fileData.byteLength === 0 ?\n",
              "          100 :\n",
              "          Math.round((position / fileData.byteLength) * 100);\n",
              "      percent.textContent = `${percentDone}% done`;\n",
              "\n",
              "    } while (position < fileData.byteLength);\n",
              "  }\n",
              "\n",
              "  // All done.\n",
              "  yield {\n",
              "    response: {\n",
              "      action: 'complete',\n",
              "    }\n",
              "  };\n",
              "}\n",
              "\n",
              "scope.google = scope.google || {};\n",
              "scope.google.colab = scope.google.colab || {};\n",
              "scope.google.colab._files = {\n",
              "  _uploadFiles,\n",
              "  _uploadFilesContinue,\n",
              "};\n",
              "})(self);\n",
              "</script> "
            ]
          },
          "metadata": {}
        },
        {
          "output_type": "stream",
          "name": "stdout",
          "text": [
            "Saving Mass_income_by_school_dataset - Sheet1.csv to Mass_income_by_school_dataset - Sheet1.csv\n",
            "CSV = Mass_income_by_school_dataset - Sheet1.csv\n"
          ]
        }
      ],
      "source": [
        "#Q1: Calculation of histogram and boxplot of median household income of Massachusetts\n",
        "#import statements\n",
        "import pandas as pd\n",
        "import numpy as np\n",
        "#Import data file & modules\n",
        "from google.colab import drive\n",
        "from google.colab import files\n",
        "import numpy as np\n",
        "import pandas as pd\n",
        "from pandas.api.types import is_numeric_dtype\n",
        "from ast import Raise\n",
        "import seaborn as sns\n",
        "import matplotlib.pyplot as plt\n",
        "\n",
        "print(\"Upload csv file for Massachusetts median household income.\")\n",
        "uploaded = files.upload()\n",
        "for i in uploaded.keys():\n",
        "  csv_file_name = i\n",
        "print(\"CSV = \" + csv_file_name)\n",
        "dataFrame_Q1A2 = pd.read_csv(csv_file_name)"
      ]
    },
    {
      "cell_type": "code",
      "source": [
        "dataFrame_Q1A2 = pd.read_csv(csv_file_name)\n",
        "dataFrame_Q1A2"
      ],
      "metadata": {
        "colab": {
          "base_uri": "https://localhost:8080/",
          "height": 423
        },
        "id": "cIj_YDO4wPQm",
        "outputId": "a5bc5dc1-3f84-432e-bdf5-d2bed190d8a7"
      },
      "execution_count": null,
      "outputs": [
        {
          "output_type": "execute_result",
          "data": {
            "text/plain": [
              "     Rank  Median Household Income  \\\n",
              "0       1                   201200   \n",
              "1       2                   176250   \n",
              "2       3                   169505   \n",
              "3       4                   165625   \n",
              "4       5                   159615   \n",
              "..    ...                      ...   \n",
              "304   305                    34731   \n",
              "305   306                    34496   \n",
              "306   307                    33763   \n",
              "307   308                    32083   \n",
              "308   309                    31406   \n",
              "\n",
              "                                  School District  Population  \n",
              "0                          Weston School District       11704  \n",
              "1                           Dover School District        5727  \n",
              "2                         Sudbury School District       18197  \n",
              "3                  Dover-Sherborn School District        9927  \n",
              "4                       Wellesley School District       28858  \n",
              "..                                            ...         ...  \n",
              "304                   Springfield School District      153836  \n",
              "305                      Lawrence School District       77364  \n",
              "306                    Fall River School District       88756  \n",
              "307  North Adams School District in Monroe (9-12)         118  \n",
              "308                       Gosnold School District          99  \n",
              "\n",
              "[309 rows x 4 columns]"
            ],
            "text/html": [
              "\n",
              "  <div id=\"df-846ed8e7-f66d-4571-b40c-e48c85cde04c\">\n",
              "    <div class=\"colab-df-container\">\n",
              "      <div>\n",
              "<style scoped>\n",
              "    .dataframe tbody tr th:only-of-type {\n",
              "        vertical-align: middle;\n",
              "    }\n",
              "\n",
              "    .dataframe tbody tr th {\n",
              "        vertical-align: top;\n",
              "    }\n",
              "\n",
              "    .dataframe thead th {\n",
              "        text-align: right;\n",
              "    }\n",
              "</style>\n",
              "<table border=\"1\" class=\"dataframe\">\n",
              "  <thead>\n",
              "    <tr style=\"text-align: right;\">\n",
              "      <th></th>\n",
              "      <th>Rank</th>\n",
              "      <th>Median Household Income</th>\n",
              "      <th>School District</th>\n",
              "      <th>Population</th>\n",
              "    </tr>\n",
              "  </thead>\n",
              "  <tbody>\n",
              "    <tr>\n",
              "      <th>0</th>\n",
              "      <td>1</td>\n",
              "      <td>201200</td>\n",
              "      <td>Weston School District</td>\n",
              "      <td>11704</td>\n",
              "    </tr>\n",
              "    <tr>\n",
              "      <th>1</th>\n",
              "      <td>2</td>\n",
              "      <td>176250</td>\n",
              "      <td>Dover School District</td>\n",
              "      <td>5727</td>\n",
              "    </tr>\n",
              "    <tr>\n",
              "      <th>2</th>\n",
              "      <td>3</td>\n",
              "      <td>169505</td>\n",
              "      <td>Sudbury School District</td>\n",
              "      <td>18197</td>\n",
              "    </tr>\n",
              "    <tr>\n",
              "      <th>3</th>\n",
              "      <td>4</td>\n",
              "      <td>165625</td>\n",
              "      <td>Dover-Sherborn School District</td>\n",
              "      <td>9927</td>\n",
              "    </tr>\n",
              "    <tr>\n",
              "      <th>4</th>\n",
              "      <td>5</td>\n",
              "      <td>159615</td>\n",
              "      <td>Wellesley School District</td>\n",
              "      <td>28858</td>\n",
              "    </tr>\n",
              "    <tr>\n",
              "      <th>...</th>\n",
              "      <td>...</td>\n",
              "      <td>...</td>\n",
              "      <td>...</td>\n",
              "      <td>...</td>\n",
              "    </tr>\n",
              "    <tr>\n",
              "      <th>304</th>\n",
              "      <td>305</td>\n",
              "      <td>34731</td>\n",
              "      <td>Springfield School District</td>\n",
              "      <td>153836</td>\n",
              "    </tr>\n",
              "    <tr>\n",
              "      <th>305</th>\n",
              "      <td>306</td>\n",
              "      <td>34496</td>\n",
              "      <td>Lawrence School District</td>\n",
              "      <td>77364</td>\n",
              "    </tr>\n",
              "    <tr>\n",
              "      <th>306</th>\n",
              "      <td>307</td>\n",
              "      <td>33763</td>\n",
              "      <td>Fall River School District</td>\n",
              "      <td>88756</td>\n",
              "    </tr>\n",
              "    <tr>\n",
              "      <th>307</th>\n",
              "      <td>308</td>\n",
              "      <td>32083</td>\n",
              "      <td>North Adams School District in Monroe (9-12)</td>\n",
              "      <td>118</td>\n",
              "    </tr>\n",
              "    <tr>\n",
              "      <th>308</th>\n",
              "      <td>309</td>\n",
              "      <td>31406</td>\n",
              "      <td>Gosnold School District</td>\n",
              "      <td>99</td>\n",
              "    </tr>\n",
              "  </tbody>\n",
              "</table>\n",
              "<p>309 rows × 4 columns</p>\n",
              "</div>\n",
              "      <button class=\"colab-df-convert\" onclick=\"convertToInteractive('df-846ed8e7-f66d-4571-b40c-e48c85cde04c')\"\n",
              "              title=\"Convert this dataframe to an interactive table.\"\n",
              "              style=\"display:none;\">\n",
              "        \n",
              "  <svg xmlns=\"http://www.w3.org/2000/svg\" height=\"24px\"viewBox=\"0 0 24 24\"\n",
              "       width=\"24px\">\n",
              "    <path d=\"M0 0h24v24H0V0z\" fill=\"none\"/>\n",
              "    <path d=\"M18.56 5.44l.94 2.06.94-2.06 2.06-.94-2.06-.94-.94-2.06-.94 2.06-2.06.94zm-11 1L8.5 8.5l.94-2.06 2.06-.94-2.06-.94L8.5 2.5l-.94 2.06-2.06.94zm10 10l.94 2.06.94-2.06 2.06-.94-2.06-.94-.94-2.06-.94 2.06-2.06.94z\"/><path d=\"M17.41 7.96l-1.37-1.37c-.4-.4-.92-.59-1.43-.59-.52 0-1.04.2-1.43.59L10.3 9.45l-7.72 7.72c-.78.78-.78 2.05 0 2.83L4 21.41c.39.39.9.59 1.41.59.51 0 1.02-.2 1.41-.59l7.78-7.78 2.81-2.81c.8-.78.8-2.07 0-2.86zM5.41 20L4 18.59l7.72-7.72 1.47 1.35L5.41 20z\"/>\n",
              "  </svg>\n",
              "      </button>\n",
              "      \n",
              "  <style>\n",
              "    .colab-df-container {\n",
              "      display:flex;\n",
              "      flex-wrap:wrap;\n",
              "      gap: 12px;\n",
              "    }\n",
              "\n",
              "    .colab-df-convert {\n",
              "      background-color: #E8F0FE;\n",
              "      border: none;\n",
              "      border-radius: 50%;\n",
              "      cursor: pointer;\n",
              "      display: none;\n",
              "      fill: #1967D2;\n",
              "      height: 32px;\n",
              "      padding: 0 0 0 0;\n",
              "      width: 32px;\n",
              "    }\n",
              "\n",
              "    .colab-df-convert:hover {\n",
              "      background-color: #E2EBFA;\n",
              "      box-shadow: 0px 1px 2px rgba(60, 64, 67, 0.3), 0px 1px 3px 1px rgba(60, 64, 67, 0.15);\n",
              "      fill: #174EA6;\n",
              "    }\n",
              "\n",
              "    [theme=dark] .colab-df-convert {\n",
              "      background-color: #3B4455;\n",
              "      fill: #D2E3FC;\n",
              "    }\n",
              "\n",
              "    [theme=dark] .colab-df-convert:hover {\n",
              "      background-color: #434B5C;\n",
              "      box-shadow: 0px 1px 3px 1px rgba(0, 0, 0, 0.15);\n",
              "      filter: drop-shadow(0px 1px 2px rgba(0, 0, 0, 0.3));\n",
              "      fill: #FFFFFF;\n",
              "    }\n",
              "  </style>\n",
              "\n",
              "      <script>\n",
              "        const buttonEl =\n",
              "          document.querySelector('#df-846ed8e7-f66d-4571-b40c-e48c85cde04c button.colab-df-convert');\n",
              "        buttonEl.style.display =\n",
              "          google.colab.kernel.accessAllowed ? 'block' : 'none';\n",
              "\n",
              "        async function convertToInteractive(key) {\n",
              "          const element = document.querySelector('#df-846ed8e7-f66d-4571-b40c-e48c85cde04c');\n",
              "          const dataTable =\n",
              "            await google.colab.kernel.invokeFunction('convertToInteractive',\n",
              "                                                     [key], {});\n",
              "          if (!dataTable) return;\n",
              "\n",
              "          const docLinkHtml = 'Like what you see? Visit the ' +\n",
              "            '<a target=\"_blank\" href=https://colab.research.google.com/notebooks/data_table.ipynb>data table notebook</a>'\n",
              "            + ' to learn more about interactive tables.';\n",
              "          element.innerHTML = '';\n",
              "          dataTable['output_type'] = 'display_data';\n",
              "          await google.colab.output.renderOutput(dataTable, element);\n",
              "          const docLink = document.createElement('div');\n",
              "          docLink.innerHTML = docLinkHtml;\n",
              "          element.appendChild(docLink);\n",
              "        }\n",
              "      </script>\n",
              "    </div>\n",
              "  </div>\n",
              "  "
            ]
          },
          "metadata": {},
          "execution_count": 3
        }
      ]
    },
    {
      "cell_type": "code",
      "source": [
        "rel_freq_fig = plt.figure()\n",
        "canvas = rel_freq_fig.add_subplot(111)\n",
        "canvas.hist(dataFrame_Q1A2['Median Household Income'], color = \"lime\", edgecolor = \"red\" ,weights=np.ones_like(dataFrame_Q1A2['Median Household Income']) / len(dataFrame_Q1A2['Median Household Income']) )\n",
        "#sns.histplot(dataFrame_Q1A2, x='Median Household Income')"
      ],
      "metadata": {
        "colab": {
          "base_uri": "https://localhost:8080/",
          "height": 352
        },
        "id": "Y1cDUBYCJJ0p",
        "outputId": "721c29e6-7b33-434f-95c2-4a47f49cf1f1"
      },
      "execution_count": null,
      "outputs": [
        {
          "output_type": "execute_result",
          "data": {
            "text/plain": [
              "(array([0.06796117, 0.25889968, 0.29449838, 0.17152104, 0.10032362,\n",
              "        0.05825243, 0.02265372, 0.01618123, 0.00647249, 0.00323625]),\n",
              " array([ 31406. ,  48385.4,  65364.8,  82344.2,  99323.6, 116303. ,\n",
              "        133282.4, 150261.8, 167241.2, 184220.6, 201200. ]),\n",
              " <a list of 10 Patch objects>)"
            ]
          },
          "metadata": {},
          "execution_count": 4
        },
        {
          "output_type": "display_data",
          "data": {
            "text/plain": [
              "<Figure size 432x288 with 1 Axes>"
            ],
            "image/png": "[encoded data removed]"
          },
          "metadata": {
            "needs_background": "light"
          }
        }
      ]
    },
    {
      "cell_type": "code",
      "source": [
        "sns.boxplot(data = dataFrame_Q1A2, y='Median Household Income')"
      ],
      "metadata": {
        "colab": {
          "base_uri": "https://localhost:8080/",
          "height": 269
        },
        "id": "NWWeseoiNk7r",
        "outputId": "1e801ce7-3987-4db7-cc42-4a828bfd5b13"
      },
      "execution_count": null,
      "outputs": [
        {
          "output_type": "execute_result",
          "data": {
            "text/plain": [
              "<matplotlib.axes._subplots.AxesSubplot at 0x7fefb418a2e0>"
            ]
          },
          "metadata": {},
          "execution_count": 5
        },
        {
          "output_type": "display_data",
          "data": {
            "text/plain": [
              "<Figure size 432x288 with 1 Axes>"
            ],
            "image/png": "[encoded data removed]"
          },
          "metadata": {
            "needs_background": "light"
          }
        }
      ]
    },
    {
      "cell_type": "markdown",
      "source": [
        "# Problem 2"
      ],
      "metadata": {
        "id": "HUe9pJiW4UJM"
      }
    },
    {
      "cell_type": "markdown",
      "source": [
        "## Problem 2.a: COIN TOSS SAMPLE SPACE GENERATOR"
      ],
      "metadata": {
        "id": "AJF6MAdDpOg2"
      }
    },
    {
      "cell_type": "code",
      "source": [
        "#Coin tossing sample space generator\n",
        "#import statements\n",
        "import pandas as pd\n",
        "import numpy as np"
      ],
      "metadata": {
        "id": "jGIghgfW4YiD"
      },
      "execution_count": null,
      "outputs": []
    },
    {
      "cell_type": "code",
      "source": [
        "#function cointoss is a generic coin sample space generator for any number of n. It is limited by n_limiter variable defaulting to True. \n",
        "#set n_limiter to false while passing arguement to calculate n greater than 3\n",
        "#the function needs only 1 arguement n as compulsory, rest all are optional\n",
        "def cointoss(n,dfflag = True,n_limiter = True):\n",
        "  if n_limiter == True and (n > 3 or n < 1):\n",
        "    raise ValueError(\"N should be between 1 and 3\")\n",
        "  elif n_limiter == False and n<1:\n",
        "    raise ValueError(\"Invalid N value!\")\n",
        "  sample = []\n",
        "  if n == 1:\n",
        "    sample = ['H','T']\n",
        "  else:    \n",
        "    for element in cointoss(n-1,False):\n",
        "      sample.append('H'+element)\n",
        "      sample.append('T'+element)\n",
        "  if dfflag:\n",
        "    sample_set = []\n",
        "    sample_df_row = {}\n",
        "    row_string = ''\n",
        "    for element in sample:\n",
        "      for i in range(len(element)):\n",
        "        sample_df_row['toss'+str(i+1)] = element[i]\n",
        "      sample_set.append(sample_df_row)\n",
        "      sample_df_row = {}\n",
        "    return pd.DataFrame(sample_set)\n",
        "        \n",
        "        \n",
        "  return sample\n",
        "\n",
        "#main function starts here\n",
        "def main():\n",
        "  n = input(\"Welcome to Coin toss sample generator. Enter number of tosses between 3 and 1:\")\n",
        "  n = int(n)\n",
        "  #Function call happening here\n",
        "  df = cointoss(n)\n",
        "  print(df)"
      ],
      "metadata": {
        "id": "XbQWKgzw4sIY"
      },
      "execution_count": null,
      "outputs": []
    },
    {
      "cell_type": "code",
      "source": [
        "if __name__ == '__main__':\n",
        "  main()"
      ],
      "metadata": {
        "id": "SsqgZab7eRpS"
      },
      "execution_count": null,
      "outputs": []
    },
    {
      "cell_type": "markdown",
      "source": [],
      "metadata": {
        "id": "34OHvETZpDlw"
      }
    },
    {
      "cell_type": "markdown",
      "source": [
        "## Problem 2.b: ROLLING DIE SAMPLE SPACE GENERATOR"
      ],
      "metadata": {
        "id": "kSDWOnEJpW05"
      }
    },
    {
      "cell_type": "code",
      "source": [
        "#Rolling die sample space generator\n",
        "#import statements\n",
        "import pandas as pd\n",
        "import numpy as np"
      ],
      "metadata": {
        "id": "jen5j4Nzpb8N"
      },
      "execution_count": null,
      "outputs": []
    },
    {
      "cell_type": "code",
      "source": [
        "#Generic function to caluculate sample space for a roll die of n rolls. limited by n_limiter as default to True\n",
        "def rolldie(n,dfflag = True,n_limiter = True):\n",
        "  if n_limiter == True and (n > 3 or n < 1):\n",
        "    raise ValueError(\"N should be between 1 and 3\")\n",
        "  elif n_limiter == False and n<1:\n",
        "    raise ValueError(\"Invalid N value!\")\n",
        "  sample = []\n",
        "  if n == 1:\n",
        "    sample = ['1','2','3','4','5','6']\n",
        "  else:    \n",
        "    for element in rolldie(n-1,False):\n",
        "      for i in range(1,7):\n",
        "        sample.append(str(i)+element)\n",
        "  if dfflag:\n",
        "    sample_set = []\n",
        "    sample_df_row = {}\n",
        "    row_string = ''\n",
        "    for element in sample:\n",
        "      for i in range(len(element)):\n",
        "        sample_df_row['X'+str(i+1)] = element[i]\n",
        "      sample_set.append(sample_df_row)\n",
        "      sample_df_row = {}\n",
        "    return pd.DataFrame(sample_set)\n",
        "        \n",
        "        \n",
        "  return sample\n",
        "\n",
        "#main function starts here\n",
        "def main():\n",
        "  n = input(\"Welcome to Rolling die sample generator. Enter number of tosses between 3 and 1:\")\n",
        "  n = int(n)\n",
        "  df = rolldie(n)\n",
        "  print(df)"
      ],
      "metadata": {
        "id": "xVjZo3SJpiiu"
      },
      "execution_count": null,
      "outputs": []
    },
    {
      "cell_type": "code",
      "source": [
        "if __name__ == '__main__':\n",
        "  main()"
      ],
      "metadata": {
        "id": "laPVbnH1qmW5"
      },
      "execution_count": null,
      "outputs": []
    },
    {
      "cell_type": "markdown",
      "source": [
        "# Problem 3: Coin tossing/Rolling die sample space & probability generator"
      ],
      "metadata": {
        "id": "8IdzpSAlraOt"
      }
    },
    {
      "cell_type": "code",
      "source": [
        "#Coin tossing/Rolling die sample space & probability generator\n",
        "#import statements\n",
        "import pandas as pd\n",
        "import numpy as np"
      ],
      "metadata": {
        "id": "nyHsPfqHrdpp"
      },
      "execution_count": null,
      "outputs": []
    },
    {
      "cell_type": "code",
      "source": [
        "def cointoss(n,dfflag = True):\n",
        "  if n > 3 or n < 1:\n",
        "    raise ValueError(\"N should be between 1 and 3\")\n",
        "  sample = []\n",
        "  if n == 1:\n",
        "    sample = ['H','T']\n",
        "  else:    \n",
        "    for element in cointoss(n-1,False):\n",
        "      sample.append('H'+element)\n",
        "      sample.append('T'+element)\n",
        "  if dfflag:\n",
        "    sample_set = []\n",
        "    sample_df_row = {}\n",
        "    row_string = ''\n",
        "    for element in sample:\n",
        "      for i in range(len(element)):\n",
        "        sample_df_row['toss'+str(i+1)] = element[i]\n",
        "      sample_set.append(sample_df_row)\n",
        "      sample_df_row = {}\n",
        "    return pd.DataFrame(sample_set)\n",
        "        \n",
        "        \n",
        "  return sample\n",
        "\n",
        "def rolldie(n,dfflag = True):\n",
        "  if n > 3 or n < 1:\n",
        "    raise ValueError(\"N should be between 1 and 3\")\n",
        "  sample = []\n",
        "  if n == 1:\n",
        "    sample = ['1','2','3','4','5','6']\n",
        "  else:    \n",
        "    for element in rolldie(n-1,False):\n",
        "      for i in range(1,7):\n",
        "        sample.append(str(i)+element)\n",
        "  if dfflag:\n",
        "    sample_set = []\n",
        "    sample_df_row = {}\n",
        "    row_string = ''\n",
        "    for element in sample:\n",
        "      for i in range(len(element)):\n",
        "        sample_df_row['X'+str(i+1)] = element[i]\n",
        "      sample_set.append(sample_df_row)\n",
        "      sample_df_row = {}\n",
        "    return pd.DataFrame(sample_set)\n",
        "        \n",
        "        \n",
        "  return sample\n",
        "\n",
        "#ProbSpace Function internally calls above functions\n",
        "#eventtype is a string, n is integer\n",
        "def probspace(event_type,n):\n",
        "  if event_type == 'rolldie' or (event_type.replace(' ','')).lower() == 'rolldie':\n",
        "    df = rolldie(n)\n",
        "  elif event_type == 'cointoss'or (event_type.replace(' ','')).lower() == 'rolldie':\n",
        "    df = cointoss(n)\n",
        "  else:\n",
        "    raise ValueError(\"Function not found for \" + event_type)\n",
        "  df = df.assign(probs=(1/(len(df.index))))\n",
        "  return df\n",
        "\n",
        "#main function starts here\n",
        "def main():\n",
        "  Event_Mapper = {1:'Coin toss', 2:'Roll die'}\n",
        "  print(\"Welcome to sample and probability generator. Select from following event type:\")\n",
        "  for key in Event_Mapper:\n",
        "    print(str(key) + \" - \" + Event_Mapper[key])\n",
        "  eventtype = input(\"Enter option: \")\n",
        "  try:\n",
        "    eventtype = int(eventtype)\n",
        "  except:\n",
        "    raise ValueError(\"Invalid input for Event type!\")\n",
        "  if eventtype not in Event_Mapper.keys():\n",
        "    raise ValueError(\"Invalid input for Event type!\")\n",
        "  \n",
        "\n",
        "  n = input(\"Enter number of \" + Event_Mapper[eventtype] + \"s: \")\n",
        "  n = int(n)\n",
        "  df = probspace(Event_Mapper[eventtype],n)\n",
        "  print(df)"
      ],
      "metadata": {
        "id": "F0eiuOV9tWf3"
      },
      "execution_count": null,
      "outputs": []
    },
    {
      "cell_type": "code",
      "source": [
        "if __name__ == '__main__':\n",
        "  main()"
      ],
      "metadata": {
        "id": "KXk5I_G2vRp8"
      },
      "execution_count": null,
      "outputs": []
    },
    {
      "cell_type": "markdown",
      "source": [
        "# Problem 4: SAMPLE SPACE GENERATOR FOR SELECTING 'R' OBJECTS OUT OF 'N' OBJECTS"
      ],
      "metadata": {
        "id": "BQIgTAxB0hoq"
      }
    },
    {
      "cell_type": "code",
      "source": [
        "#import statements\n",
        "import pandas as pd\n",
        "import numpy as np"
      ],
      "metadata": {
        "id": "OvQuO8Eb0jFn"
      },
      "execution_count": null,
      "outputs": []
    },
    {
      "cell_type": "code",
      "source": [
        "from os import replace\n",
        "\n",
        "#Function <sample> uses <simulator> function internally\n",
        "def sample(n,r,order,replacement):\n",
        "  objects = list(range(1,n+1))\n",
        "  print_extras = True\n",
        "  if (r == 0 or r > len(objects)):\n",
        "    raise ValueError(\"Invalid input for number of items to be drawn!\")\n",
        "  #for i in range(len(objects)):\n",
        "  #  objects[i] = str(objects[i])\n",
        "  simulation_tray = []\n",
        "  if print_extras == True:\n",
        "    if order == True:\n",
        "      print(\"Permutation with\")\n",
        "    else:\n",
        "      print(\"Combination with\")\n",
        "    if replacement == True:\n",
        "      print(\"replacement\")\n",
        "    else:\n",
        "      print(\"No replacement\")\n",
        "  simulation_tray = simulator(objects,r,order,replacement)\n",
        "  column = []\n",
        "  for i in range(r):\n",
        "    column.append(\"X\"+str(i+1))\n",
        "  \n",
        "  df = pd.DataFrame(simulation_tray, columns = column)\n",
        "  return df\n",
        "\n",
        "#Generic simulator function for r object retrieval in n object space\n",
        "def simulator(objects,r,order,replacement):\n",
        "  \n",
        "  if r == 1 and order == True:\n",
        "    return objects\n",
        "  if (r == 0 or r > len(objects)) and order == True:\n",
        "    raise ValueError(\"Invalid input for number of items to be drawn!\")\n",
        "  \n",
        "  else:\n",
        "    if r == 0:\n",
        "      return [[]]\n",
        "    temp_objects = []\n",
        "    samp = []\n",
        "    for element in objects:\n",
        "      \n",
        "      if order == True:\n",
        "        temp_objects = objects[:]\n",
        "        temp_objects.remove(element)\n",
        "        if replacement == False:\n",
        "          #simulating without replacement permutation\n",
        "          for element_2 in simulator(temp_objects,r-1,order,replacement):\n",
        "            if type(element_2) == list:\n",
        "              samp.append([element] + element_2)\n",
        "            else:\n",
        "              samp.append([element] + [element_2])          \n",
        "        else:\n",
        "          #simuating with replacement permutation\n",
        "          for element_2 in simulator(objects,r-1,order,replacement):\n",
        "            if type(element_2) == list:\n",
        "              samp.append([element]+element_2)\n",
        "            else:\n",
        "              samp.append([element] + [element_2])\n",
        "      else:\n",
        "        temp_objects = objects[:]\n",
        "        \n",
        "        if replacement == False:\n",
        "          #simulating without replacement combination\n",
        "          temp_objects = temp_objects[temp_objects.index(element)+1:]\n",
        "          \n",
        "          for element_2 in simulator(temp_objects,r-1,order,replacement):\n",
        "            if type(element_2) == list:\n",
        "              samp.append([element]+element_2)\n",
        "            else:\n",
        "              samp.append([element] + [element_2])\n",
        "               \n",
        "        else:\n",
        "          #simuating with replacement combination\n",
        "          temp_objects = temp_objects[temp_objects.index(element):]\n",
        "          for element_2 in simulator(temp_objects,r-1,order,replacement):\n",
        "            if type(element_2) == list:\n",
        "              samp.append([element]+element_2)\n",
        "            else:\n",
        "              samp.append([element] + [element_2])\n",
        "        \n",
        "    return samp\n",
        "\n",
        "#Main function starts here\n",
        "def main():\n",
        "  options = {1:{'name':'Permutation with replacement','order' : True, 'replacement' : True},\n",
        "             2:{'name':'Permutation without replacement','order' : True, 'replacement' : False},\n",
        "             3:{'name':'Combination with replacement','order' : False, 'replacement' : True},\n",
        "             4:{'name':'Combination without replacement', 'order' : False, 'replacement' : False}}                \n",
        "  print(\"Welcome to Permutation/Combination simulator. Below are the options for selection:\")\n",
        "  for key in options.keys():\n",
        "    print(\"\"+str(key)+\"-\"+options[key]['name']+\" (Order=\"+str(options[key]['order'])+\", replacement=\"+str(options[key]['replacement'])+\")\")\n",
        "  print(\"Enter input as option, N and R seperated by spaces: Ex: (Incase of Permutation with replacement of 10 objects with 3 objects selected input will be: 1 10 3\")\n",
        "  inp = input()\n",
        "  inp = inp.split(\" \")\n",
        "  #input handling\n",
        "  for i in range(len(inp)):    \n",
        "    try:\n",
        "      inp[i] = int(inp[i])\n",
        "    except:\n",
        "      raise ValueError(\"Entered invalid option!\")\n",
        "  if inp[0] not in [1,2,3,4]:\n",
        "    raise ValueError(\"Entered invalid option!\")\n",
        "\n",
        "  df1 = sample(inp[1],inp[2],options[inp[0]]['order'],options[inp[0]]['replacement'])\n",
        "  print(df1)"
      ],
      "metadata": {
        "id": "giJWeot00p8r"
      },
      "execution_count": null,
      "outputs": []
    },
    {
      "cell_type": "code",
      "source": [
        "if __name__ == '__main__':\n",
        "  main()"
      ],
      "metadata": {
        "id": "0ygnV9OYT7Tx"
      },
      "execution_count": null,
      "outputs": []
    },
    {
      "cell_type": "markdown",
      "source": [
        "# Problem 5: NUMBER OF SAMPLE SPACE GENERATOR FOR 'R' OBJECTS DRAWN OUT OF 'N' OBJECTS"
      ],
      "metadata": {
        "id": "gvbLageEe-ln"
      }
    },
    {
      "cell_type": "code",
      "source": [
        "#Dynamic programming approach for n fact generation. Hence declaring global dictionary for n fact\n",
        "global_dict = {}\n",
        "\n",
        "#Generic function for factorial generation\n",
        "def fact_n(n):\n",
        "  if n in global_dict.keys():\n",
        "    return global_dict[n]\n",
        "  if n == 0:\n",
        "    global_dict[0] = 1    \n",
        "  else:\n",
        "    fac = n * fact_n(n-1)\n",
        "    global_dict[n] = fac\n",
        "  return global_dict[n]\n",
        "\n",
        "#Function definition. This internally uses dact_n function\n",
        "def nsample(n,r,order,replacement):\n",
        "  if order == True:\n",
        "    #Permutation block\n",
        "    if replacement == True:\n",
        "      return n**r\n",
        "    else:\n",
        "      return fact_n(n)/(fact_n(n-r))\n",
        "  else:\n",
        "    #Combination block\n",
        "    if replacement == False:\n",
        "      return fact_n(n)/(fact_n(r)*fact_n(n-r))\n",
        "    else:\n",
        "      return fact_n(r+n-1)/(fact_n(r)*fact_n(n-1))\n",
        "\n",
        "#main function starts here\n",
        "def main():\n",
        "  options = {1:{'name':'Permutation with replacement','order' : True, 'replacement' : True},\n",
        "             2:{'name':'Permutation without replacement','order' : True, 'replacement' : False},\n",
        "             3:{'name':'Combination with replacement','order' : False, 'replacement' : True},\n",
        "             4:{'name':'Combination without replacement', 'order' : False, 'replacement' : False}}                \n",
        "  print(\"Welcome to Permutation/Combination outcome simulator. Below are the options for selection:\")\n",
        "  for key in options.keys():\n",
        "    print(\"\"+str(key)+\"-\"+options[key]['name']+\" (Order=\"+str(options[key]['order'])+\", replacement=\"+str(options[key]['replacement'])+\")\")\n",
        "  print(\"Enter input as option, N and R seperated by spaces: Ex: (Incase of Permutation with replacement of 10 objects with 3 objects selected input will be: 1 10 3\")\n",
        "  inp = input()\n",
        "  inp = inp.split(\" \")\n",
        "  for i in range(len(inp)):    \n",
        "    try:\n",
        "      inp[i] = int(inp[i])\n",
        "    except:\n",
        "      raise ValueError(\"Entered invalid option!\")\n",
        "  if inp[0] not in [1,2,3,4]:\n",
        "    raise ValueError(\"Entered invalid option!\")\n",
        "\n",
        "  print(nsample(inp[1],inp[2],options[inp[0]]['order'],options[inp[0]]['replacement']))"
      ],
      "metadata": {
        "id": "5pDxsxl4fEuk"
      },
      "execution_count": null,
      "outputs": []
    },
    {
      "cell_type": "code",
      "source": [
        "if __name__ == '__main__':\n",
        "  main()"
      ],
      "metadata": {
        "id": "Wn95uA09hBD8"
      },
      "execution_count": null,
      "outputs": []
    }
  ]
}